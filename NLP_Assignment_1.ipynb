{
  "nbformat": 4,
  "nbformat_minor": 0,
  "metadata": {
    "colab": {
      "name": "NLP Assignment-1.ipynb",
      "provenance": [],
      "collapsed_sections": [],
      "authorship_tag": "ABX9TyOsVdt7WqqFU/YvhxwWv33G"
    },
    "kernelspec": {
      "name": "python3",
      "display_name": "Python 3"
    },
    "language_info": {
      "name": "python"
    }
  },
  "cells": [
    {
      "cell_type": "code",
      "source": [
        "import nltk\n",
        "from nltk.tokenize import word_tokenize\n",
        "from nltk.probability import FreqDist\n",
        "from nltk.stem import PorterStemmer\n",
        "from nltk.stem import WordNetLemmatizer\n",
        "from nltk.corpus import stopwords\n",
        "nltk.download('stopwords')\n",
        "nltk.download('punkt')\n",
        "nltk.download('wordnet')\n",
        "nltk.download('omw-1.4')"
      ],
      "metadata": {
        "colab": {
          "base_uri": "https://localhost:8080/"
        },
        "id": "9R5F_t57Zx3T",
        "outputId": "bf78a733-44ba-4871-f9f5-69cc2910de1e"
      },
      "execution_count": 59,
      "outputs": [
        {
          "output_type": "stream",
          "name": "stderr",
          "text": [
            "[nltk_data] Downloading package stopwords to /root/nltk_data...\n",
            "[nltk_data]   Package stopwords is already up-to-date!\n",
            "[nltk_data] Downloading package punkt to /root/nltk_data...\n",
            "[nltk_data]   Package punkt is already up-to-date!\n",
            "[nltk_data] Downloading package wordnet to /root/nltk_data...\n",
            "[nltk_data]   Package wordnet is already up-to-date!\n",
            "[nltk_data] Downloading package omw-1.4 to /root/nltk_data...\n",
            "[nltk_data]   Package omw-1.4 is already up-to-date!\n"
          ]
        },
        {
          "output_type": "execute_result",
          "data": {
            "text/plain": [
              "True"
            ]
          },
          "metadata": {},
          "execution_count": 59
        }
      ]
    },
    {
      "cell_type": "markdown",
      "source": [
        "3. Find stem and lemma words for the given words?\n",
        "\n",
        "“cats\"  \n",
        "\"trouble\"  \n",
        "\"troubling\"  \n",
        "\"troubled\"  \n",
        "“having”  \n",
        "“Corriendo”  \n",
        "“at”  \n",
        "“was\""
      ],
      "metadata": {
        "id": "ccA2fy8uoenC"
      }
    },
    {
      "cell_type": "code",
      "source": [
        "ps = PorterStemmer()\n",
        "lm = WordNetLemmatizer()\n",
        "words = [\"cats\", \"trouble\", \"troubling\", \"troubled\", \"having\", \"Corriendo\", \"at\", \"was\"]\n",
        "\n",
        "print(\"Stem Words : \")\n",
        "for w in words:\n",
        "    print(w, \" = \", ps.stem(w))\n",
        "\n",
        "print(\"\\nLemma Words : \")\n",
        "for w in words:\n",
        "    print(w, \" = \", lm.lemmatize(w))"
      ],
      "metadata": {
        "colab": {
          "base_uri": "https://localhost:8080/"
        },
        "id": "c7PVIB5Jo7se",
        "outputId": "0ce45fb4-28f4-4ef2-e789-a3f37051bf2b"
      },
      "execution_count": 60,
      "outputs": [
        {
          "output_type": "stream",
          "name": "stdout",
          "text": [
            "Stem Words : \n",
            "cats  =  cat\n",
            "trouble  =  troubl\n",
            "troubling  =  troubl\n",
            "troubled  =  troubl\n",
            "having  =  have\n",
            "Corriendo  =  corriendo\n",
            "at  =  at\n",
            "was  =  wa\n",
            "\n",
            "Lemma Words : \n",
            "cats  =  cat\n",
            "trouble  =  trouble\n",
            "troubling  =  troubling\n",
            "troubled  =  troubled\n",
            "having  =  having\n",
            "Corriendo  =  Corriendo\n",
            "at  =  at\n",
            "was  =  wa\n"
          ]
        }
      ]
    },
    {
      "cell_type": "markdown",
      "source": [
        "4. Find stop words and BOW from the given paragraph?\n",
        "\n",
        "*“The NLTK library is one of the oldest and most commonly used Python libraries for Natural Language Processing. NLTK supports stop word removal, and you can find the list of stop words in the corpus module. To remove stop words from a sentence, you can divide your text into words and then remove the word if it exits in the list of stop words provided by NLTK.”*"
      ],
      "metadata": {
        "id": "zgWUKUpFbQlM"
      }
    },
    {
      "cell_type": "code",
      "execution_count": 64,
      "metadata": {
        "id": "RlB-YsRRY5HE",
        "colab": {
          "base_uri": "https://localhost:8080/"
        },
        "outputId": "99b73528-92b8-46e4-d077-92526780f26e"
      },
      "outputs": [
        {
          "output_type": "stream",
          "name": "stdout",
          "text": [
            "Stop Words are : \n",
            "  ['is', 'of', 'the', 'and', 'most', 'for', 'and', 'you', 'can', 'the', 'of', 'in', 'the', 'from', 'a', 'you', 'can', 'your', 'into', 'and', 'then', 'the', 'if', 'it', 'in', 'the', 'of', 'by']\n",
            "Bag Of Words are : \n",
            "  ['the', 'stop', 'words', 'nltk', 'of', 'and', '.', 'word', ',', 'you', 'can', 'list', 'in', 'remove', 'library', 'is', 'one', 'oldest', 'most', 'commonly', 'used', 'python', 'libraries', 'for', 'natural', 'language', 'processing', 'supports', 'removal', 'find', 'corpus', 'module', 'to', 'from', 'a', 'sentence', 'divide', 'your', 'text', 'into', 'then', 'if', 'it', 'exits', 'provided', 'by'] \n",
            " [6, 4, 4, 3, 3, 3, 3, 2, 2, 2, 2, 2, 2, 2, 1, 1, 1, 1, 1, 1, 1, 1, 1, 1, 1, 1, 1, 1, 1, 1, 1, 1, 1, 1, 1, 1, 1, 1, 1, 1, 1, 1, 1, 1, 1, 1]\n"
          ]
        }
      ],
      "source": [
        "\n",
        "  \n",
        "paragraph = \"\"\"The NLTK library is one of the oldest and most commonly used Python libraries \n",
        "for Natural Language Processing. NLTK supports stop word removal, \n",
        "and you can find the list of stop words in the corpus module. \n",
        "To remove stop words from a sentence, you can divide your text into words \n",
        "and then remove the word if it exits in the list of stop words provided by NLTK.\"\"\"\n",
        "  \n",
        "stop_words = set(stopwords.words('english'))\n",
        "tokens = word_tokenize(paragraph)\n",
        "filtered_paragraph = [w for w in tokens if not w.lower() in stop_words]\n",
        "bow = []\n",
        "vector = []\n",
        "freq = FreqDist()\n",
        "\n",
        "for word in tokens: \n",
        "    freq[word.lower()]+= 1\n",
        "\n",
        "for i in freq:\n",
        "    bow.append(i)\n",
        "    vector.append(freq[i])\n",
        "\n",
        "for w in tokens:\n",
        "    if w not in stop_words:\n",
        "        filtered_paragraph.append(w)\n",
        "\n",
        "stops = []\n",
        "for w in tokens:\n",
        "    if w in stop_words:\n",
        "        stops.append(w)\n",
        "print(\"Stop Words are : \\n \",stops) \n",
        "print(\"Bag Of Words are : \\n \",bow,'\\n',vector)"
      ]
    },
    {
      "cell_type": "markdown",
      "source": [
        "5. From the above paragraph print frequency of each word using NLTK?"
      ],
      "metadata": {
        "id": "NsP3IiXTcfc0"
      }
    },
    {
      "cell_type": "code",
      "source": [
        " \n",
        "paragraph = \"\"\"The NLTK library is one of the oldest and most commonly used Python libraries \n",
        "for Natural Language Processing. NLTK supports stop word removal, \n",
        "and you can find the list of stop words in the corpus module. \n",
        "To remove stop words from a sentence, you can divide your text into words \n",
        "and then remove the word if it exits in the list of stop words provided by NLTK.\"\"\"\n",
        "  \n",
        "tokens = word_tokenize(paragraph)\n",
        "freq = FreqDist()\n",
        "\n",
        "for word in tokens: \n",
        "    freq[word.lower()]+= 1\n",
        "\n",
        "print(\"Frequency of each word in the given paragraph is : \")\n",
        "result = dict(freq)\n",
        "for i in result:\n",
        "  print(i, '=', result[i])\n",
        "\n"
      ],
      "metadata": {
        "colab": {
          "base_uri": "https://localhost:8080/"
        },
        "id": "v4el6g0sevBz",
        "outputId": "6b4755bf-88a8-4728-d8db-cdf81c330898"
      },
      "execution_count": 62,
      "outputs": [
        {
          "output_type": "stream",
          "name": "stdout",
          "text": [
            "Frequency of each word in the given paragraph is : \n",
            "the = 6\n",
            "nltk = 3\n",
            "library = 1\n",
            "is = 1\n",
            "one = 1\n",
            "of = 3\n",
            "oldest = 1\n",
            "and = 3\n",
            "most = 1\n",
            "commonly = 1\n",
            "used = 1\n",
            "python = 1\n",
            "libraries = 1\n",
            "for = 1\n",
            "natural = 1\n",
            "language = 1\n",
            "processing = 1\n",
            ". = 3\n",
            "supports = 1\n",
            "stop = 4\n",
            "word = 2\n",
            "removal = 1\n",
            ", = 2\n",
            "you = 2\n",
            "can = 2\n",
            "find = 1\n",
            "list = 2\n",
            "words = 4\n",
            "in = 2\n",
            "corpus = 1\n",
            "module = 1\n",
            "to = 1\n",
            "remove = 2\n",
            "from = 1\n",
            "a = 1\n",
            "sentence = 1\n",
            "divide = 1\n",
            "your = 1\n",
            "text = 1\n",
            "into = 1\n",
            "then = 1\n",
            "if = 1\n",
            "it = 1\n",
            "exits = 1\n",
            "provided = 1\n",
            "by = 1\n"
          ]
        }
      ]
    }
  ]
}